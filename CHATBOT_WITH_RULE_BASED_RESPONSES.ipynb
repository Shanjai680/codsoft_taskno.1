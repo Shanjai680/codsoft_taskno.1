{
  "nbformat": 4,
  "nbformat_minor": 0,
  "metadata": {
    "colab": {
      "provenance": []
    },
    "kernelspec": {
      "name": "python3",
      "display_name": "Python 3"
    },
    "language_info": {
      "name": "python"
    }
  },
  "cells": [
    {
      "cell_type": "code",
      "execution_count": 1,
      "metadata": {
        "colab": {
          "base_uri": "https://localhost:8080/"
        },
        "id": "ZjIKryqI9juZ",
        "outputId": "bd6913ed-d41a-4f67-c1b4-429a47719466"
      },
      "outputs": [
        {
          "output_type": "stream",
          "name": "stdout",
          "text": [
            "Chatbot:Hi! I'm Chatgenie,I'm here to assist you!\n",
            "Me:hi\n",
            "Chatbot: I'm sorry,I didn't understand that.Can you please rephrase the sentence\n",
            "Me:how are you\n",
            "Chatbot: Thankyou,I'm a chatbot doing good!\n",
            "Me:do you have any hobbies\n",
            "Chatbot: I always like to help users,so I m interested in chatting with people like you\n",
            "Me:bye\n",
            "Chatbot: Goodbye! Have a great day!\n"
          ]
        }
      ],
      "source": [
        "data={\n",
        "    \"hii\":\"Hi there!! I'm CHATGENIE here to assist you\",\n",
        "    \"hello\": \"Hello! How can I help you today??\",\n",
        "    \"what is your name\":\"I'm a chatbot,so you can call me CHATGENIE\",\n",
        "    \"where are you from\":\"I'm from the digital world,always ready to chat!\",\n",
        "    \"how are you\":\"Thankyou,I'm a chatbot doing good!\",\n",
        "    \"what is your favorite color\":\"I'm a bot,so I dont have any preferences for colors\",\n",
        "    \"do you enjoy listening music\":\"Sorry!! I can't listen to music,but I'm here to chat about it\",\n",
        "    \"do you have any hobbies\":\"I always like to help users,so I m interested in chatting with people like you\",\n",
        "    \"what did you eat\":\"I dont eat,either i can help you with some delicious recipes!!\",\n",
        "    \"give steps to make lemonade\":'''Combine 1 cup each of sugar and water and cook over medium heat until the sugar dissolves.\n",
        "Set the syrup aside to cool for about 10 minutes.\n",
        "Combine the cooled syrup and freshly-squeezed lemon juice in a pitcher.\n",
        "Add the remaining water and stir, then pour over ice and enjoy!''',\n",
        "     \"bye\":\"Bye! Take care and have a great day!\"\n",
        "}\n",
        "\n",
        "def get_response(user_input):\n",
        "  for pattern, response in data.items():\n",
        "    if pattern in user_input:\n",
        "      return response\n",
        "  return \"I'm sorry,I didn't understand that.Can you please rephrase the sentence\"\n",
        "def chatbot_response(input_text):\n",
        "  response=get_response(input_text.lower())\n",
        "  return response\n",
        "\n",
        "def user_input():\n",
        "  print(\"Chatbot:Hi! I'm Chatgenie,I'm here to assist you!\")\n",
        "  while True:\n",
        "     user_input=input(\"Me:\")\n",
        "     if user_input==\"bye\":\n",
        "        print(\"Chatbot: Goodbye! Have a great day!\")\n",
        "        break\n",
        "     response=get_response(user_input.lower())\n",
        "     print(\"Chatbot:\",response)\n",
        "\n",
        "user_input()"
      ]
    }
  ]
}